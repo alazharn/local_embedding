{
 "cells": [
  {
   "cell_type": "code",
   "execution_count": 58,
   "metadata": {},
   "outputs": [],
   "source": [
    "! pip install sentence_transformers langchain"
   ]
  },
  {
   "cell_type": "code",
   "execution_count": 1,
   "metadata": {},
   "outputs": [],
   "source": [
    "from langchain.embeddings import HuggingFaceEmbeddings"
   ]
  },
  {
   "cell_type": "code",
   "execution_count": 2,
   "metadata": {},
   "outputs": [],
   "source": [
    "embeddings_model_name = \"all-MiniLM-L6-v2\""
   ]
  },
  {
   "cell_type": "code",
   "execution_count": 5,
   "metadata": {},
   "outputs": [
    {
     "name": "stderr",
     "output_type": "stream",
     "text": [
      "c:\\Users\\Naji\\Documents\\Research\\Litterature\\GPT\\.venv\\lib\\site-packages\\tqdm\\auto.py:21: TqdmWarning: IProgress not found. Please update jupyter and ipywidgets. See https://ipywidgets.readthedocs.io/en/stable/user_install.html\n",
      "  from .autonotebook import tqdm as notebook_tqdm\n"
     ]
    }
   ],
   "source": [
    "embeddings = HuggingFaceEmbeddings(model_name=embeddings_model_name)"
   ]
  },
  {
   "cell_type": "code",
   "execution_count": 9,
   "metadata": {},
   "outputs": [],
   "source": [
    "embeddings_model_path = \"all-MiniLM-L6-v2\"\n",
    "embeddings.client.save(embeddings_model_path)"
   ]
  },
  {
   "cell_type": "code",
   "execution_count": 12,
   "metadata": {},
   "outputs": [],
   "source": [
    "# to load the embedding model\n",
    "# embeddings_model_path = \"all-MiniLM-L6-v2\"\n",
    "# embeddings = HuggingFaceEmbeddings(model_name=embeddings_model_path)"
   ]
  },
  {
   "cell_type": "code",
   "execution_count": 30,
   "metadata": {},
   "outputs": [],
   "source": [
    "from langchain.document_loaders import DirectoryLoader\n",
    "from langchain.document_loaders import TextLoader\n",
    "\n",
    "folder_path = \"docs/\"\n",
    "\n",
    "text_loader_kwargs={'autodetect_encoding': True}\n",
    "loader = DirectoryLoader(folder_path,\n",
    "                        loader_cls=TextLoader, \n",
    "                        loader_kwargs=text_loader_kwargs)\n",
    "docs = loader.load()"
   ]
  },
  {
   "cell_type": "code",
   "execution_count": 36,
   "metadata": {},
   "outputs": [],
   "source": [
    "from langchain.text_splitter import RecursiveCharacterTextSplitter\n",
    "text_splitter = RecursiveCharacterTextSplitter(\n",
    "    chunk_size=200, chunk_overlap=0\n",
    ")\n",
    "texts = text_splitter.split_documents(docs)"
   ]
  },
  {
   "cell_type": "code",
   "execution_count": 40,
   "metadata": {},
   "outputs": [],
   "source": [
    "from langchain.vectorstores import Chroma\n",
    "\n",
    "db_directory = \"local_db\"\n",
    "vector_db = Chroma.from_documents(documents=texts, persist_directory=db_directory, embedding=embeddings)\n",
    "vector_db.persist()"
   ]
  },
  {
   "cell_type": "code",
   "execution_count": 41,
   "metadata": {},
   "outputs": [],
   "source": [
    "# to delete the vector db\n",
    "# vector_db.delete_collection()\n",
    "\n",
    "# to load the directory without saving it\n",
    "# db_directory = \"local_db\"\n",
    "# vector_db = Chroma(persist_directory=db_directory, embedding_function=embeddings)"
   ]
  },
  {
   "cell_type": "code",
   "execution_count": 42,
   "metadata": {},
   "outputs": [],
   "source": [
    "retriever = vector_db.as_retriever()\n",
    "# using cosine similarity between the query and embeddings stored in the vector database\n",
    "retriever.search_kwargs['distance_metric'] = 'cos'\n",
    "# using max marginal relevance (see https://www.cs.cmu.edu/~jgc/publication/The_Use_MMR_Diversity_Based_LTMIR_1998.pdf)\n",
    "retriever.search_kwargs['maximal_marginal_relevance'] = True\n",
    "# number of Documents to fetch to pass to MMR algorithm\n",
    "retriever.search_kwargs['fetch_k'] = 100\n",
    "# number of Documents to return\n",
    "retriever.search_kwargs['k'] = 4"
   ]
  },
  {
   "cell_type": "code",
   "execution_count": 56,
   "metadata": {},
   "outputs": [],
   "source": [
    "from langchain.chains.combine_documents.base import (\n",
    "    BaseCombineDocumentsChain,\n",
    "    format_document,\n",
    ")\n",
    "\n",
    "def semantic_search(query, retriever = retriever, search_prefix=search_prefix):\n",
    "    docs = retriever.get_relevant_documents(query)\n",
    "    doc_list = [doc.page_content+\"\\nSource:\"+doc.metadata['source'] for doc in docs]\n",
    "    document_separator = \"\\n\\n\"\n",
    "    return document_separator.join(doc_list)"
   ]
  },
  {
   "cell_type": "code",
   "execution_count": 57,
   "metadata": {},
   "outputs": [
    {
     "name": "stdout",
     "output_type": "stream",
     "text": [
      "We note that the adjustment grows as (roughly) $T^{2}$. A similar formula was obtained by Barden (2009) using a model in which funding spread is functionally linked to the value of the asset.\n",
      "Source:docs\\FundingBeyondDiscounting\n",
      "\n",
      "In what follows, we shall consider derivatives contracts on a particular asset, whose price process we denote by $S(t), t \\geq 0$. We denote by $r_{R}(t)$ the short rate on funding secured by this\n",
      "Source:docs\\FundingBeyondDiscounting\n",
      "\n",
      "$$\n",
      "d S(t) / S(t)=O(d t)+\\sigma_{S} d W_{S}(t)\n",
      "$$\n",
      "\n",
      "and funding spread that follows dynamics inspired by a simple onefactor Gaussian model of interest rates ${ }^{2}$ :\n",
      "Source:docs\\FundingBeyondDiscounting\n",
      "\n",
      "In this article, we have developed valuation formulas for derivative contracts that incorporate the modern realities of funding and collateral agreements that deviate significantly from the textbook\n",
      "Source:docs\\FundingBeyondDiscounting\n"
     ]
    }
   ],
   "source": [
    "query = 'Black Scholes formula with funding'\n",
    "print(semantic_search(query))"
   ]
  }
 ],
 "metadata": {
  "kernelspec": {
   "display_name": ".venv",
   "language": "python",
   "name": "python3"
  },
  "language_info": {
   "codemirror_mode": {
    "name": "ipython",
    "version": 3
   },
   "file_extension": ".py",
   "mimetype": "text/x-python",
   "name": "python",
   "nbconvert_exporter": "python",
   "pygments_lexer": "ipython3",
   "version": "3.10.8"
  },
  "orig_nbformat": 4
 },
 "nbformat": 4,
 "nbformat_minor": 2
}
